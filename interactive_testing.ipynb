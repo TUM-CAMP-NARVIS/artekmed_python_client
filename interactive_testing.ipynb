{
 "cells": [
  {
   "cell_type": "code",
   "id": "initial_id",
   "metadata": {
    "collapsed": true
   },
   "source": [
    "from typing import List, Tuple, Dict\n",
    "import zenoh\n",
    "from tcnart.schema import model\n",
    "from tcnart.network.discovery import find_camera_sensors, build_channel_configs\n",
    "from tcnart.schema.messages.service_controller import DeviceContextReply\n",
    "from tcnart.schema.types.primitives import CameraModel\n",
    "from tcnart.schema.types.transform import RigidTransform\n",
    "from tcnart.core.dataflow import StreamConfig\n",
    "from tcnart.network.receiver import resolve_stream_descriptors"
   ],
   "outputs": [],
   "execution_count": null
  },
  {
   "metadata": {},
   "cell_type": "code",
   "source": [
    "zenoh_config = \"/Users/ecku/mydev/artekmed/zenoh_client_config/ueck_mobile/zenoh_config.json5\"\n",
    "session = zenoh.open(zenoh.Config.from_json5(open(zenoh_config).read()))\n",
    "topic_prefix = \"tcn/loc/pcpd\""
   ],
   "id": "3796c8460105303c",
   "outputs": [],
   "execution_count": null
  },
  {
   "metadata": {},
   "cell_type": "code",
   "source": "cameras = find_camera_sensors(session, f\"{topic_prefix}/k4a_capture_multi/rpc/sensor/*/describe\")",
   "id": "5a31ccde186c9c7a",
   "outputs": [],
   "execution_count": null
  },
  {
   "metadata": {},
   "cell_type": "code",
   "source": "channels_config, channel_calibration, channel_poses = build_channel_configs(cameras)",
   "id": "f10ee21e364599f7",
   "outputs": [],
   "execution_count": null
  },
  {
   "metadata": {},
   "cell_type": "code",
   "source": "stream_config = resolve_stream_descriptors(topic_prefix, None, channel_calibration, channel_poses, channels_config, session)",
   "id": "f89de4354f25ae42",
   "outputs": [],
   "execution_count": null
  },
  {
   "metadata": {},
   "cell_type": "code",
   "source": "stream_config",
   "id": "24c04abd15a11fb9",
   "outputs": [],
   "execution_count": null
  },
  {
   "metadata": {},
   "cell_type": "code",
   "source": [
    "worker_senders = []\n",
    "for stream_name in stream_config:\n",
    "    worker_senders.append(lambda x: print(f\"received element {stream_name}: {x}\"))"
   ],
   "id": "698404bd5df22985",
   "outputs": [],
   "execution_count": null
  },
  {
   "metadata": {},
   "cell_type": "code",
   "source": "",
   "id": "72be022589fb615f",
   "outputs": [],
   "execution_count": null
  }
 ],
 "metadata": {
  "kernelspec": {
   "display_name": "Python 3",
   "language": "python",
   "name": "python3"
  },
  "language_info": {
   "codemirror_mode": {
    "name": "ipython",
    "version": 2
   },
   "file_extension": ".py",
   "mimetype": "text/x-python",
   "name": "python",
   "nbconvert_exporter": "python",
   "pygments_lexer": "ipython2",
   "version": "2.7.6"
  }
 },
 "nbformat": 4,
 "nbformat_minor": 5
}
